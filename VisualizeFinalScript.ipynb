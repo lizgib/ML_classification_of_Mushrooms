{
 "cells": [
  {
   "cell_type": "code",
   "execution_count": null,
   "metadata": {},
   "outputs": [],
   "source": [
    "#######--------Visualization of Conv Layers--------#######"
   ]
  },
  {
   "cell_type": "code",
   "execution_count": null,
   "metadata": {},
   "outputs": [],
   "source": [
    "####-----Picks a sample image to demonstrate how the filters of the different convolutional layers repsond-----####\n",
    "img1=train_images[6,:,:,0]\n",
    "img2=np.expand_dims(img1,axis=0)\n",
    "img2=np.expand_dims(img2,axis=3)"
   ]
  },
  {
   "cell_type": "code",
   "execution_count": null,
   "metadata": {},
   "outputs": [],
   "source": [
    "\n",
    "layer_outputs=[]\n",
    "\n",
    "for ii in range(8):\n",
    "    layer_outputs.append(model.layers[ii].output)\n",
    "activation_model2=models.Model(inputs=model.input,outputs=layer_outputs)\n",
    "\n",
    "\n",
    "activations = activation_model2.predict(img2)"
   ]
  },
  {
   "cell_type": "code",
   "execution_count": null,
   "metadata": {},
   "outputs": [],
   "source": [
    "#####----plots output of 1st convolutional layer----######\n",
    "\n",
    "#-This Layer has sixty four filters, so outputs 64 images\n",
    "\n",
    "images11=[]\n",
    "for ii in range(0,np.shape(activations[0])[3]):\n",
    "    images11.append(activations[0][0,:,:,ii])\n",
    "\n",
    "plt.figure(figsize=(20,10))\n",
    "columns = 8\n",
    "for i, image in enumerate(images11):\n",
    "    plt.subplot(len(images11) / columns + 1, columns, i + 1)\n",
    "    plt.imshow(images11[i])    "
   ]
  },
  {
   "cell_type": "code",
   "execution_count": null,
   "metadata": {},
   "outputs": [],
   "source": [
    "#####----plots output of 2nd Convolutional layer-----#######\n",
    "\n",
    "images11=[]\n",
    "for ii in range(0,np.shape(activations[0])[3]):\n",
    "    images11.append(activations[3][0,:,:,ii])\n",
    "\n",
    "plt.figure(figsize=(20,10))\n",
    "columns = 8\n",
    "for i, image in enumerate(images11):\n",
    "    plt.subplot(len(images11) / columns + 1, columns, i + 1)\n",
    "    plt.imshow(images11[i])   "
   ]
  }
 ],
 "metadata": {
  "kernelspec": {
   "display_name": "Python 3",
   "language": "python",
   "name": "python3"
  },
  "language_info": {
   "codemirror_mode": {
    "name": "ipython",
    "version": 3
   },
   "file_extension": ".py",
   "mimetype": "text/x-python",
   "name": "python",
   "nbconvert_exporter": "python",
   "pygments_lexer": "ipython3",
   "version": "3.7.1"
  }
 },
 "nbformat": 4,
 "nbformat_minor": 2
}
